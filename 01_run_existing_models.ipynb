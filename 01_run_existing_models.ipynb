{
 "cells": [
  {
   "cell_type": "code",
   "execution_count": 1,
   "metadata": {},
   "outputs": [],
   "source": [
    "from engine import LassoRegressor, HoltWintersAtomic, HoltWintersPooled\n",
    "from utils import generate_synthetic_data"
   ]
  },
  {
   "cell_type": "code",
   "execution_count": 2,
   "metadata": {},
   "outputs": [
    {
     "name": "stderr",
     "output_type": "stream",
     "text": [
      "2023-03-15 13:38:13,177 : MainThread : INFO : epoch: 0\n",
      "2023-03-15 13:38:13,438 : MainThread : INFO : epoch: 1\n",
      "2023-03-15 13:38:13,494 : MainThread : INFO : epoch: 2\n",
      "2023-03-15 13:38:13,553 : MainThread : INFO : epoch: 3\n",
      "2023-03-15 13:38:13,607 : MainThread : INFO : epoch: 4\n",
      "2023-03-15 13:38:13,659 : MainThread : INFO : epoch: 5\n",
      "2023-03-15 13:38:13,711 : MainThread : INFO : epoch: 6\n",
      "2023-03-15 13:38:13,762 : MainThread : INFO : epoch: 7\n",
      "2023-03-15 13:38:13,813 : MainThread : INFO : epoch: 8\n",
      "2023-03-15 13:38:13,861 : MainThread : INFO : epoch: 9\n",
      "2023-03-15 13:38:14,391 : MainThread : INFO : epoch: 0\n",
      "2023-03-15 13:38:14,524 : MainThread : INFO : epoch: 1\n",
      "2023-03-15 13:38:14,574 : MainThread : INFO : epoch: 2\n",
      "2023-03-15 13:38:14,622 : MainThread : INFO : epoch: 3\n",
      "2023-03-15 13:38:14,672 : MainThread : INFO : epoch: 4\n",
      "2023-03-15 13:38:14,723 : MainThread : INFO : epoch: 5\n",
      "2023-03-15 13:38:14,773 : MainThread : INFO : epoch: 6\n",
      "2023-03-15 13:38:14,822 : MainThread : INFO : epoch: 7\n",
      "2023-03-15 13:38:14,872 : MainThread : INFO : epoch: 8\n",
      "2023-03-15 13:38:14,921 : MainThread : INFO : epoch: 9\n",
      "2023-03-15 13:38:15,446 : MainThread : INFO : epoch: 0\n",
      "2023-03-15 13:38:15,553 : MainThread : INFO : epoch: 1\n",
      "2023-03-15 13:38:15,606 : MainThread : INFO : epoch: 2\n",
      "2023-03-15 13:38:15,655 : MainThread : INFO : epoch: 3\n",
      "2023-03-15 13:38:15,706 : MainThread : INFO : epoch: 4\n",
      "2023-03-15 13:38:15,756 : MainThread : INFO : epoch: 5\n",
      "2023-03-15 13:38:15,807 : MainThread : INFO : epoch: 6\n",
      "2023-03-15 13:38:15,865 : MainThread : INFO : epoch: 7\n",
      "2023-03-15 13:38:15,918 : MainThread : INFO : epoch: 8\n",
      "2023-03-15 13:38:15,978 : MainThread : INFO : epoch: 9\n"
     ]
    }
   ],
   "source": [
    "lasso_df = generate_synthetic_data(model_name=\"lasso\", synthetic_data_config={\"m\": 100, \"n\": 20, \"sigma\": 5, \"density\": 0.2})\n",
    "atomic_df = generate_synthetic_data(model_name=\"atomic\", synthetic_data_config={\"n\" : 20, \"time_period\" : 750}).reset_index()\n",
    "pooled_df = generate_synthetic_data(model_name=\"pooled\", synthetic_data_config={\"n_models\" : 2, \"n\" : 20, \"time_period\" : 750}).reset_index()"
   ]
  },
  {
   "cell_type": "code",
   "execution_count": 3,
   "metadata": {},
   "outputs": [],
   "source": [
    "# Non-negative Lasso Regression"
   ]
  },
  {
   "cell_type": "code",
   "execution_count": 4,
   "metadata": {},
   "outputs": [
    {
     "name": "stderr",
     "output_type": "stream",
     "text": [
      "/home/abinbev/anaconda3/envs/mlflow_sklearn_custom_model/lib/python3.8/site-packages/cvxpy/problems/problem.py:1385: UserWarning: Solution may be inaccurate. Try another solver, adjusting the solver settings, or solve with verbose=True for more information.\n",
      "  warnings.warn(\n"
     ]
    }
   ],
   "source": [
    "lasso_model = LassoRegressor(alpha= 1)\n",
    "lasso_model.fit(lasso_df.drop(\"y\", axis=1), lasso_df[\"y\"])\n",
    "lasso_df[\"y_hat\"] = lasso_model.predict(lasso_df.drop(\"y\", axis=1))"
   ]
  },
  {
   "cell_type": "code",
   "execution_count": null,
   "metadata": {},
   "outputs": [],
   "source": [
    "# Atomic Holt-Winters"
   ]
  },
  {
   "cell_type": "code",
   "execution_count": 12,
   "metadata": {},
   "outputs": [
    {
     "data": {
      "text/html": [
       "<div>\n",
       "<style scoped>\n",
       "    .dataframe tbody tr th:only-of-type {\n",
       "        vertical-align: middle;\n",
       "    }\n",
       "\n",
       "    .dataframe tbody tr th {\n",
       "        vertical-align: top;\n",
       "    }\n",
       "\n",
       "    .dataframe thead th {\n",
       "        text-align: right;\n",
       "    }\n",
       "</style>\n",
       "<table border=\"1\" class=\"dataframe\">\n",
       "  <thead>\n",
       "    <tr style=\"text-align: right;\">\n",
       "      <th></th>\n",
       "      <th>yt</th>\n",
       "      <th>yt_hat</th>\n",
       "    </tr>\n",
       "    <tr>\n",
       "      <th>date</th>\n",
       "      <th></th>\n",
       "      <th></th>\n",
       "    </tr>\n",
       "  </thead>\n",
       "  <tbody>\n",
       "    <tr>\n",
       "      <th>2022-01-01</th>\n",
       "      <td>0.918352</td>\n",
       "      <td>0.514614</td>\n",
       "    </tr>\n",
       "    <tr>\n",
       "      <th>2022-01-02</th>\n",
       "      <td>0.561445</td>\n",
       "      <td>0.514585</td>\n",
       "    </tr>\n",
       "    <tr>\n",
       "      <th>2022-01-03</th>\n",
       "      <td>0.507681</td>\n",
       "      <td>0.514556</td>\n",
       "    </tr>\n",
       "    <tr>\n",
       "      <th>2022-01-04</th>\n",
       "      <td>0.252311</td>\n",
       "      <td>0.514527</td>\n",
       "    </tr>\n",
       "    <tr>\n",
       "      <th>2022-01-05</th>\n",
       "      <td>0.822078</td>\n",
       "      <td>0.514498</td>\n",
       "    </tr>\n",
       "    <tr>\n",
       "      <th>...</th>\n",
       "      <td>...</td>\n",
       "      <td>...</td>\n",
       "    </tr>\n",
       "    <tr>\n",
       "      <th>2024-01-16</th>\n",
       "      <td>0.529256</td>\n",
       "      <td>0.493039</td>\n",
       "    </tr>\n",
       "    <tr>\n",
       "      <th>2024-01-17</th>\n",
       "      <td>0.084518</td>\n",
       "      <td>0.493010</td>\n",
       "    </tr>\n",
       "    <tr>\n",
       "      <th>2024-01-18</th>\n",
       "      <td>0.634704</td>\n",
       "      <td>0.492981</td>\n",
       "    </tr>\n",
       "    <tr>\n",
       "      <th>2024-01-19</th>\n",
       "      <td>0.143717</td>\n",
       "      <td>0.492952</td>\n",
       "    </tr>\n",
       "    <tr>\n",
       "      <th>2024-01-20</th>\n",
       "      <td>0.280556</td>\n",
       "      <td>0.492923</td>\n",
       "    </tr>\n",
       "  </tbody>\n",
       "</table>\n",
       "<p>750 rows × 2 columns</p>\n",
       "</div>"
      ],
      "text/plain": [
       "                  yt    yt_hat\n",
       "date                          \n",
       "2022-01-01  0.918352  0.514614\n",
       "2022-01-02  0.561445  0.514585\n",
       "2022-01-03  0.507681  0.514556\n",
       "2022-01-04  0.252311  0.514527\n",
       "2022-01-05  0.822078  0.514498\n",
       "...              ...       ...\n",
       "2024-01-16  0.529256  0.493039\n",
       "2024-01-17  0.084518  0.493010\n",
       "2024-01-18  0.634704  0.492981\n",
       "2024-01-19  0.143717  0.492952\n",
       "2024-01-20  0.280556  0.492923\n",
       "\n",
       "[750 rows x 2 columns]"
      ]
     },
     "execution_count": 12,
     "metadata": {},
     "output_type": "execute_result"
    }
   ],
   "source": [
    "atomic_model = HoltWintersAtomic(trend=\"add\", date_col = \"date\", date_freq = \"D\")\n",
    "atomic_model.fit(atomic_df[['date', 'yt']])\n",
    "predicted_df = atomic_model.predict(atomic_df[['date','yt']])\n",
    "atomic_df.set_index('date').join(predicted_df)[['yt','yt_hat']]"
   ]
  },
  {
   "cell_type": "code",
   "execution_count": null,
   "metadata": {},
   "outputs": [],
   "source": []
  }
 ],
 "metadata": {
  "kernelspec": {
   "display_name": "mlflow_sklearn_custom_model",
   "language": "python",
   "name": "python3"
  },
  "language_info": {
   "codemirror_mode": {
    "name": "ipython",
    "version": 3
   },
   "file_extension": ".py",
   "mimetype": "text/x-python",
   "name": "python",
   "nbconvert_exporter": "python",
   "pygments_lexer": "ipython3",
   "version": "3.8.16"
  },
  "orig_nbformat": 4
 },
 "nbformat": 4,
 "nbformat_minor": 2
}
