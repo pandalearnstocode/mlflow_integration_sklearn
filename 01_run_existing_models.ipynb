{
 "cells": [
  {
   "cell_type": "code",
   "execution_count": 10,
   "metadata": {},
   "outputs": [],
   "source": [
    "from engine import LassoRegressor, HoltWintersAtomic, HoltWintersPooled\n",
    "from utils import generate_synthetic_data\n",
    "import joblib"
   ]
  },
  {
   "cell_type": "code",
   "execution_count": 13,
   "metadata": {},
   "outputs": [
    {
     "name": "stderr",
     "output_type": "stream",
     "text": [
      "2023-03-15 20:17:55,397 : MainThread : INFO : epoch: 0\n",
      "2023-03-15 20:17:55,514 : MainThread : INFO : epoch: 1\n",
      "2023-03-15 20:17:55,581 : MainThread : INFO : epoch: 2\n",
      "2023-03-15 20:17:55,641 : MainThread : INFO : epoch: 3\n",
      "2023-03-15 20:17:55,700 : MainThread : INFO : epoch: 4\n",
      "2023-03-15 20:17:55,759 : MainThread : INFO : epoch: 5\n",
      "2023-03-15 20:17:55,817 : MainThread : INFO : epoch: 6\n",
      "2023-03-15 20:17:55,876 : MainThread : INFO : epoch: 7\n",
      "2023-03-15 20:17:55,930 : MainThread : INFO : epoch: 8\n",
      "2023-03-15 20:17:55,984 : MainThread : INFO : epoch: 9\n",
      "2023-03-15 20:17:56,639 : MainThread : INFO : epoch: 0\n",
      "2023-03-15 20:17:56,746 : MainThread : INFO : epoch: 1\n",
      "2023-03-15 20:17:56,799 : MainThread : INFO : epoch: 2\n",
      "2023-03-15 20:17:56,854 : MainThread : INFO : epoch: 3\n",
      "2023-03-15 20:17:56,911 : MainThread : INFO : epoch: 4\n",
      "2023-03-15 20:17:56,964 : MainThread : INFO : epoch: 5\n",
      "2023-03-15 20:17:57,021 : MainThread : INFO : epoch: 6\n",
      "2023-03-15 20:17:57,090 : MainThread : INFO : epoch: 7\n",
      "2023-03-15 20:17:57,148 : MainThread : INFO : epoch: 8\n",
      "2023-03-15 20:17:57,202 : MainThread : INFO : epoch: 9\n",
      "2023-03-15 20:17:57,736 : MainThread : INFO : epoch: 0\n",
      "2023-03-15 20:17:57,842 : MainThread : INFO : epoch: 1\n",
      "2023-03-15 20:17:57,895 : MainThread : INFO : epoch: 2\n",
      "2023-03-15 20:17:57,949 : MainThread : INFO : epoch: 3\n",
      "2023-03-15 20:17:58,002 : MainThread : INFO : epoch: 4\n",
      "2023-03-15 20:17:58,056 : MainThread : INFO : epoch: 5\n",
      "2023-03-15 20:17:58,113 : MainThread : INFO : epoch: 6\n",
      "2023-03-15 20:17:58,166 : MainThread : INFO : epoch: 7\n",
      "2023-03-15 20:17:58,219 : MainThread : INFO : epoch: 8\n",
      "2023-03-15 20:17:58,274 : MainThread : INFO : epoch: 9\n",
      "2023-03-15 20:17:58,798 : MainThread : INFO : epoch: 0\n",
      "2023-03-15 20:17:58,901 : MainThread : INFO : epoch: 1\n",
      "2023-03-15 20:17:58,955 : MainThread : INFO : epoch: 2\n",
      "2023-03-15 20:17:59,008 : MainThread : INFO : epoch: 3\n",
      "2023-03-15 20:17:59,062 : MainThread : INFO : epoch: 4\n",
      "2023-03-15 20:17:59,115 : MainThread : INFO : epoch: 5\n",
      "2023-03-15 20:17:59,170 : MainThread : INFO : epoch: 6\n",
      "2023-03-15 20:17:59,226 : MainThread : INFO : epoch: 7\n",
      "2023-03-15 20:17:59,279 : MainThread : INFO : epoch: 8\n",
      "2023-03-15 20:17:59,334 : MainThread : INFO : epoch: 9\n",
      "2023-03-15 20:17:59,875 : MainThread : INFO : epoch: 0\n",
      "2023-03-15 20:17:59,971 : MainThread : INFO : epoch: 1\n",
      "2023-03-15 20:18:00,026 : MainThread : INFO : epoch: 2\n",
      "2023-03-15 20:18:00,079 : MainThread : INFO : epoch: 3\n",
      "2023-03-15 20:18:00,133 : MainThread : INFO : epoch: 4\n",
      "2023-03-15 20:18:00,184 : MainThread : INFO : epoch: 5\n",
      "2023-03-15 20:18:00,238 : MainThread : INFO : epoch: 6\n",
      "2023-03-15 20:18:00,290 : MainThread : INFO : epoch: 7\n",
      "2023-03-15 20:18:00,345 : MainThread : INFO : epoch: 8\n",
      "2023-03-15 20:18:00,398 : MainThread : INFO : epoch: 9\n",
      "2023-03-15 20:18:00,928 : MainThread : INFO : epoch: 0\n",
      "2023-03-15 20:18:01,030 : MainThread : INFO : epoch: 1\n",
      "2023-03-15 20:18:01,083 : MainThread : INFO : epoch: 2\n",
      "2023-03-15 20:18:01,137 : MainThread : INFO : epoch: 3\n",
      "2023-03-15 20:18:01,193 : MainThread : INFO : epoch: 4\n",
      "2023-03-15 20:18:01,246 : MainThread : INFO : epoch: 5\n",
      "2023-03-15 20:18:01,300 : MainThread : INFO : epoch: 6\n",
      "2023-03-15 20:18:01,353 : MainThread : INFO : epoch: 7\n",
      "2023-03-15 20:18:01,409 : MainThread : INFO : epoch: 8\n",
      "2023-03-15 20:18:01,464 : MainThread : INFO : epoch: 9\n",
      "2023-03-15 20:18:01,988 : MainThread : INFO : epoch: 0\n",
      "2023-03-15 20:18:02,091 : MainThread : INFO : epoch: 1\n",
      "2023-03-15 20:18:02,148 : MainThread : INFO : epoch: 2\n",
      "2023-03-15 20:18:02,199 : MainThread : INFO : epoch: 3\n",
      "2023-03-15 20:18:02,260 : MainThread : INFO : epoch: 4\n",
      "2023-03-15 20:18:02,317 : MainThread : INFO : epoch: 5\n",
      "2023-03-15 20:18:02,371 : MainThread : INFO : epoch: 6\n",
      "2023-03-15 20:18:02,425 : MainThread : INFO : epoch: 7\n",
      "2023-03-15 20:18:02,481 : MainThread : INFO : epoch: 8\n",
      "2023-03-15 20:18:02,535 : MainThread : INFO : epoch: 9\n",
      "2023-03-15 20:18:03,074 : MainThread : INFO : epoch: 0\n",
      "2023-03-15 20:18:03,185 : MainThread : INFO : epoch: 1\n",
      "2023-03-15 20:18:03,239 : MainThread : INFO : epoch: 2\n",
      "2023-03-15 20:18:03,292 : MainThread : INFO : epoch: 3\n",
      "2023-03-15 20:18:03,347 : MainThread : INFO : epoch: 4\n",
      "2023-03-15 20:18:03,398 : MainThread : INFO : epoch: 5\n",
      "2023-03-15 20:18:03,451 : MainThread : INFO : epoch: 6\n",
      "2023-03-15 20:18:03,505 : MainThread : INFO : epoch: 7\n",
      "2023-03-15 20:18:03,557 : MainThread : INFO : epoch: 8\n",
      "2023-03-15 20:18:03,610 : MainThread : INFO : epoch: 9\n"
     ]
    }
   ],
   "source": [
    "lasso_df = generate_synthetic_data(model_name=\"lasso\", synthetic_data_config={\"m\": 100, \"n\": 20, \"sigma\": 5, \"density\": 0.2})\n",
    "atomic_df = generate_synthetic_data(model_name=\"atomic\", synthetic_data_config={\"n\" : 20, \"time_period\" : 750}).reset_index()\n",
    "pooled_df = generate_synthetic_data(model_name=\"pooled\", synthetic_data_config={\"n_models\" : 7, \"n\" : 20, \"time_period\" : 750}).reset_index()\n",
    "lasso_df.to_parquet(\"lasso_df.parquet\", index=False)\n",
    "atomic_df.to_parquet(\"atomic_df.parquet\", index=False)\n",
    "pooled_df.to_parquet(\"pooled_df.parquet\", index=False)\n",
    "lasso_df.to_csv(\"lasso_df.csv\", index=False)\n",
    "atomic_df.to_csv(\"atomic_df.csv\", index=False)\n",
    "pooled_df.to_csv(\"pooled_df.csv\", index=False)"
   ]
  },
  {
   "cell_type": "code",
   "execution_count": 3,
   "metadata": {},
   "outputs": [],
   "source": [
    "# Non-negative Lasso Regression"
   ]
  },
  {
   "cell_type": "code",
   "execution_count": 4,
   "metadata": {},
   "outputs": [
    {
     "name": "stderr",
     "output_type": "stream",
     "text": [
      "/home/abinbev/anaconda3/envs/mlflow_sklearn_custom_model/lib/python3.8/site-packages/cvxpy/problems/problem.py:1385: UserWarning: Solution may be inaccurate. Try another solver, adjusting the solver settings, or solve with verbose=True for more information.\n",
      "  warnings.warn(\n"
     ]
    }
   ],
   "source": [
    "lasso_model = LassoRegressor(alpha= 1)\n",
    "lasso_model.fit(lasso_df.drop(\"y\", axis=1), lasso_df[\"y\"])\n",
    "lasso_df[\"y_hat\"] = lasso_model.predict(lasso_df.drop(\"y\", axis=1))"
   ]
  },
  {
   "cell_type": "code",
   "execution_count": 5,
   "metadata": {},
   "outputs": [],
   "source": [
    "# Atomic Holt-Winters"
   ]
  },
  {
   "cell_type": "code",
   "execution_count": 6,
   "metadata": {},
   "outputs": [
    {
     "data": {
      "text/html": [
       "<div>\n",
       "<style scoped>\n",
       "    .dataframe tbody tr th:only-of-type {\n",
       "        vertical-align: middle;\n",
       "    }\n",
       "\n",
       "    .dataframe tbody tr th {\n",
       "        vertical-align: top;\n",
       "    }\n",
       "\n",
       "    .dataframe thead th {\n",
       "        text-align: right;\n",
       "    }\n",
       "</style>\n",
       "<table border=\"1\" class=\"dataframe\">\n",
       "  <thead>\n",
       "    <tr style=\"text-align: right;\">\n",
       "      <th></th>\n",
       "      <th>yt</th>\n",
       "      <th>yt_hat</th>\n",
       "    </tr>\n",
       "    <tr>\n",
       "      <th>date</th>\n",
       "      <th></th>\n",
       "      <th></th>\n",
       "    </tr>\n",
       "  </thead>\n",
       "  <tbody>\n",
       "    <tr>\n",
       "      <th>2022-01-01</th>\n",
       "      <td>0.918352</td>\n",
       "      <td>0.514614</td>\n",
       "    </tr>\n",
       "    <tr>\n",
       "      <th>2022-01-02</th>\n",
       "      <td>0.561445</td>\n",
       "      <td>0.514585</td>\n",
       "    </tr>\n",
       "    <tr>\n",
       "      <th>2022-01-03</th>\n",
       "      <td>0.507681</td>\n",
       "      <td>0.514556</td>\n",
       "    </tr>\n",
       "    <tr>\n",
       "      <th>2022-01-04</th>\n",
       "      <td>0.252311</td>\n",
       "      <td>0.514527</td>\n",
       "    </tr>\n",
       "    <tr>\n",
       "      <th>2022-01-05</th>\n",
       "      <td>0.822078</td>\n",
       "      <td>0.514498</td>\n",
       "    </tr>\n",
       "    <tr>\n",
       "      <th>...</th>\n",
       "      <td>...</td>\n",
       "      <td>...</td>\n",
       "    </tr>\n",
       "    <tr>\n",
       "      <th>2024-01-16</th>\n",
       "      <td>0.529256</td>\n",
       "      <td>0.493039</td>\n",
       "    </tr>\n",
       "    <tr>\n",
       "      <th>2024-01-17</th>\n",
       "      <td>0.084518</td>\n",
       "      <td>0.493010</td>\n",
       "    </tr>\n",
       "    <tr>\n",
       "      <th>2024-01-18</th>\n",
       "      <td>0.634704</td>\n",
       "      <td>0.492981</td>\n",
       "    </tr>\n",
       "    <tr>\n",
       "      <th>2024-01-19</th>\n",
       "      <td>0.143717</td>\n",
       "      <td>0.492952</td>\n",
       "    </tr>\n",
       "    <tr>\n",
       "      <th>2024-01-20</th>\n",
       "      <td>0.280556</td>\n",
       "      <td>0.492923</td>\n",
       "    </tr>\n",
       "  </tbody>\n",
       "</table>\n",
       "<p>750 rows × 2 columns</p>\n",
       "</div>"
      ],
      "text/plain": [
       "                  yt    yt_hat\n",
       "date                          \n",
       "2022-01-01  0.918352  0.514614\n",
       "2022-01-02  0.561445  0.514585\n",
       "2022-01-03  0.507681  0.514556\n",
       "2022-01-04  0.252311  0.514527\n",
       "2022-01-05  0.822078  0.514498\n",
       "...              ...       ...\n",
       "2024-01-16  0.529256  0.493039\n",
       "2024-01-17  0.084518  0.493010\n",
       "2024-01-18  0.634704  0.492981\n",
       "2024-01-19  0.143717  0.492952\n",
       "2024-01-20  0.280556  0.492923\n",
       "\n",
       "[750 rows x 2 columns]"
      ]
     },
     "execution_count": 6,
     "metadata": {},
     "output_type": "execute_result"
    }
   ],
   "source": [
    "atomic_model = HoltWintersAtomic(trend=\"add\", date_col = \"date\", date_freq = \"D\", target_col = \"yt\")\n",
    "atomic_model.fit(atomic_df[['date', 'yt']])\n",
    "predicted_df = atomic_model.predict(atomic_df[['date','yt']])\n",
    "atomic_df.set_index('date').join(predicted_df)[['yt','yt_hat']]"
   ]
  },
  {
   "cell_type": "code",
   "execution_count": 7,
   "metadata": {},
   "outputs": [],
   "source": [
    "# Pooled Holt-Winters"
   ]
  },
  {
   "cell_type": "code",
   "execution_count": 8,
   "metadata": {},
   "outputs": [
    {
     "data": {
      "text/html": [
       "<div>\n",
       "<style scoped>\n",
       "    .dataframe tbody tr th:only-of-type {\n",
       "        vertical-align: middle;\n",
       "    }\n",
       "\n",
       "    .dataframe tbody tr th {\n",
       "        vertical-align: top;\n",
       "    }\n",
       "\n",
       "    .dataframe thead th {\n",
       "        text-align: right;\n",
       "    }\n",
       "</style>\n",
       "<table border=\"1\" class=\"dataframe\">\n",
       "  <thead>\n",
       "    <tr style=\"text-align: right;\">\n",
       "      <th></th>\n",
       "      <th>date</th>\n",
       "      <th>yt</th>\n",
       "      <th>model_id</th>\n",
       "      <th>yt_hat</th>\n",
       "    </tr>\n",
       "  </thead>\n",
       "  <tbody>\n",
       "    <tr>\n",
       "      <th>0</th>\n",
       "      <td>2022-01-01</td>\n",
       "      <td>0.233470</td>\n",
       "      <td>0</td>\n",
       "      <td>0.500518</td>\n",
       "    </tr>\n",
       "    <tr>\n",
       "      <th>1</th>\n",
       "      <td>2022-01-02</td>\n",
       "      <td>0.588021</td>\n",
       "      <td>0</td>\n",
       "      <td>0.500496</td>\n",
       "    </tr>\n",
       "    <tr>\n",
       "      <th>2</th>\n",
       "      <td>2022-01-03</td>\n",
       "      <td>0.924158</td>\n",
       "      <td>0</td>\n",
       "      <td>0.500475</td>\n",
       "    </tr>\n",
       "    <tr>\n",
       "      <th>3</th>\n",
       "      <td>2022-01-04</td>\n",
       "      <td>0.142893</td>\n",
       "      <td>0</td>\n",
       "      <td>0.500453</td>\n",
       "    </tr>\n",
       "    <tr>\n",
       "      <th>4</th>\n",
       "      <td>2022-01-05</td>\n",
       "      <td>0.308549</td>\n",
       "      <td>0</td>\n",
       "      <td>0.500432</td>\n",
       "    </tr>\n",
       "    <tr>\n",
       "      <th>...</th>\n",
       "      <td>...</td>\n",
       "      <td>...</td>\n",
       "      <td>...</td>\n",
       "      <td>...</td>\n",
       "    </tr>\n",
       "    <tr>\n",
       "      <th>1495</th>\n",
       "      <td>2024-01-16</td>\n",
       "      <td>0.343628</td>\n",
       "      <td>1</td>\n",
       "      <td>0.484244</td>\n",
       "    </tr>\n",
       "    <tr>\n",
       "      <th>1496</th>\n",
       "      <td>2024-01-17</td>\n",
       "      <td>0.283204</td>\n",
       "      <td>1</td>\n",
       "      <td>0.484193</td>\n",
       "    </tr>\n",
       "    <tr>\n",
       "      <th>1497</th>\n",
       "      <td>2024-01-18</td>\n",
       "      <td>0.502999</td>\n",
       "      <td>1</td>\n",
       "      <td>0.484142</td>\n",
       "    </tr>\n",
       "    <tr>\n",
       "      <th>1498</th>\n",
       "      <td>2024-01-19</td>\n",
       "      <td>0.844140</td>\n",
       "      <td>1</td>\n",
       "      <td>0.484092</td>\n",
       "    </tr>\n",
       "    <tr>\n",
       "      <th>1499</th>\n",
       "      <td>2024-01-20</td>\n",
       "      <td>0.511688</td>\n",
       "      <td>1</td>\n",
       "      <td>0.484041</td>\n",
       "    </tr>\n",
       "  </tbody>\n",
       "</table>\n",
       "<p>1500 rows × 4 columns</p>\n",
       "</div>"
      ],
      "text/plain": [
       "           date        yt  model_id    yt_hat\n",
       "0    2022-01-01  0.233470         0  0.500518\n",
       "1    2022-01-02  0.588021         0  0.500496\n",
       "2    2022-01-03  0.924158         0  0.500475\n",
       "3    2022-01-04  0.142893         0  0.500453\n",
       "4    2022-01-05  0.308549         0  0.500432\n",
       "...         ...       ...       ...       ...\n",
       "1495 2024-01-16  0.343628         1  0.484244\n",
       "1496 2024-01-17  0.283204         1  0.484193\n",
       "1497 2024-01-18  0.502999         1  0.484142\n",
       "1498 2024-01-19  0.844140         1  0.484092\n",
       "1499 2024-01-20  0.511688         1  0.484041\n",
       "\n",
       "[1500 rows x 4 columns]"
      ]
     },
     "execution_count": 8,
     "metadata": {},
     "output_type": "execute_result"
    }
   ],
   "source": [
    "holt_winters_pooled_model = HoltWintersPooled(trend=\"add\", date_col = \"date\", date_freq = \"D\", model_id_col = \"model_id\", target_col = \"yt\")\n",
    "holt_winters_pooled_model.fit(pooled_df[['date', 'yt', 'model_id']], y = None)\n",
    "predicted_df = holt_winters_pooled_model.predict(pooled_df[['date','yt', 'model_id']])\n",
    "pooled_df[['date', 'yt', 'model_id']].merge(predicted_df, on = ['date', 'model_id'], how = 'left')"
   ]
  },
  {
   "cell_type": "code",
   "execution_count": 9,
   "metadata": {},
   "outputs": [
    {
     "data": {
      "text/plain": [
       "{0: HoltWintersAtomic(trend='add'), 1: HoltWintersAtomic(trend='add')}"
      ]
     },
     "execution_count": 9,
     "metadata": {},
     "output_type": "execute_result"
    }
   ],
   "source": [
    "holt_winters_pooled_model.models\n",
    "# https://www.databricks.com/blog/2021/09/21/managing-model-ensembles-with-mlflow.html"
   ]
  },
  {
   "cell_type": "code",
   "execution_count": null,
   "metadata": {},
   "outputs": [],
   "source": [
    "# Saving all the models using joblib"
   ]
  },
  {
   "cell_type": "code",
   "execution_count": 10,
   "metadata": {},
   "outputs": [
    {
     "data": {
      "text/plain": [
       "['holt_winters_pooled_model.pkl']"
      ]
     },
     "execution_count": 10,
     "metadata": {},
     "output_type": "execute_result"
    }
   ],
   "source": [
    "joblib.dump(lasso_model, \"lasso_model.pkl\")\n",
    "joblib.dump(atomic_model, \"atomic_model.pkl\")\n",
    "joblib.dump(holt_winters_pooled_model, \"holt_winters_pooled_model.pkl\")"
   ]
  }
 ],
 "metadata": {
  "kernelspec": {
   "display_name": "mlflow_sklearn_custom_model",
   "language": "python",
   "name": "python3"
  },
  "language_info": {
   "codemirror_mode": {
    "name": "ipython",
    "version": 3
   },
   "file_extension": ".py",
   "mimetype": "text/x-python",
   "name": "python",
   "nbconvert_exporter": "python",
   "pygments_lexer": "ipython3",
   "version": "3.8.16"
  },
  "orig_nbformat": 4
 },
 "nbformat": 4,
 "nbformat_minor": 2
}
