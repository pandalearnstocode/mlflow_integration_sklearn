{
 "cells": [
  {
   "cell_type": "code",
   "execution_count": null,
   "metadata": {},
   "outputs": [],
   "source": [
    "from lightgbm_ray import RayLGBMClassifier, RayParams\n",
    "import numpy as np\n",
    "seed = 42\n",
    "X = np.random.uniform(0, 1, (4_000_000, 20))\n",
    "y = np.random.uniform(0, 1, 4_000_000).astype(int)\n",
    "\n",
    "clf = RayLGBMClassifier(\n",
    "    n_jobs=2,\n",
    "    random_state=seed)\n",
    "clf.fit(X, y)\n",
    "pred_ray = clf.predict(X)\n",
    "print(pred_ray)\n",
    "pred_proba_ray = clf.predict_proba(X)\n",
    "print(pred_proba_ray)\n",
    "clf.fit(X, y, ray_params=RayParams(num_actors=2))\n",
    "pred_ray = clf.predict(X, ray_params=RayParams(num_actors=2))\n",
    "print(pred_ray)"
   ]
  },
  {
   "cell_type": "code",
   "execution_count": 1,
   "metadata": {},
   "outputs": [],
   "source": [
    "import ray\n",
    "ray.shutdown()"
   ]
  },
  {
   "cell_type": "code",
   "execution_count": null,
   "metadata": {},
   "outputs": [],
   "source": []
  }
 ],
 "metadata": {
  "kernelspec": {
   "display_name": "mlflow_sklearn_custom_model",
   "language": "python",
   "name": "python3"
  },
  "language_info": {
   "codemirror_mode": {
    "name": "ipython",
    "version": 3
   },
   "file_extension": ".py",
   "mimetype": "text/x-python",
   "name": "python",
   "nbconvert_exporter": "python",
   "pygments_lexer": "ipython3",
   "version": "3.8.16"
  },
  "orig_nbformat": 4
 },
 "nbformat": 4,
 "nbformat_minor": 2
}
