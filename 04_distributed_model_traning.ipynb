{
 "cells": [
  {
   "cell_type": "code",
   "execution_count": null,
   "metadata": {},
   "outputs": [
    {
     "name": "stderr",
     "output_type": "stream",
     "text": [
      "2023-03-15 15:10:27,595\tINFO worker.py:1553 -- Started a local Ray instance.\n",
      "\u001b[2m\u001b[36m(raylet)\u001b[0m Spilled 2929 MiB, 2 objects, write throughput 535 MiB/s. Set RAY_verbose_spill_logs=0 to disable this message.\n",
      "\u001b[2m\u001b[36m(raylet)\u001b[0m Spilled 5859 MiB, 10 objects, write throughput 524 MiB/s.\n",
      "\u001b[2m\u001b[36m(raylet)\u001b[0m Spilled 8789 MiB, 18 objects, write throughput 529 MiB/s.\n"
     ]
    }
   ],
   "source": [
    "from lightgbm_ray import RayLGBMClassifier, RayParams\n",
    "import numpy as np\n",
    "seed = 42\n",
    "X = np.random.uniform(0, 1, (4_000_000, 20))\n",
    "y = np.random.uniform(0, 1, 4_000_000).astype(int)\n",
    "\n",
    "clf = RayLGBMClassifier(\n",
    "    n_jobs=2,\n",
    "    random_state=seed)\n",
    "clf.fit(X, y)\n",
    "pred_ray = clf.predict(X)\n",
    "print(pred_ray)\n",
    "pred_proba_ray = clf.predict_proba(X)\n",
    "print(pred_proba_ray)\n",
    "clf.fit(X, y, ray_params=RayParams(num_actors=2))\n",
    "pred_ray = clf.predict(X, ray_params=RayParams(num_actors=2))\n",
    "print(pred_ray)"
   ]
  }
 ],
 "metadata": {
  "kernelspec": {
   "display_name": "mlflow_sklearn_custom_model",
   "language": "python",
   "name": "python3"
  },
  "language_info": {
   "codemirror_mode": {
    "name": "ipython",
    "version": 3
   },
   "file_extension": ".py",
   "mimetype": "text/x-python",
   "name": "python",
   "nbconvert_exporter": "python",
   "pygments_lexer": "ipython3",
   "version": "3.8.16"
  },
  "orig_nbformat": 4
 },
 "nbformat": 4,
 "nbformat_minor": 2
}
